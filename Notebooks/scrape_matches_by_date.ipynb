{
 "cells": [
  {
   "cell_type": "code",
   "execution_count": 4,
   "metadata": {},
   "outputs": [],
   "source": [
    "import requests\n",
    "from bs4 import BeautifulSoup\n",
    "import pandas as pd\n",
    "import re\n",
    "import numpy as np\n",
    "from datetime import datetime\n",
    "import random\n",
    "import os\n",
    "import sys\n",
    "# Get the current directory.\n",
    "current_dir = os.getcwd()\n",
    "# Add the `src` folder to the PYTHONPATH.\n",
    "sys.path.append(os.path.join(current_dir, \"../src\"))\n",
    "from scraping_functions import *"
   ]
  },
  {
   "cell_type": "code",
   "execution_count": 5,
   "metadata": {},
   "outputs": [],
   "source": [
    "tournaments_df = pd.read_csv('../Data/tournaments.csv').set_index(['Name', 'Year'])\n",
    "players_df = pd.read_csv('../Data/players.csv').set_index('Name')\n",
    "\n",
    "matches_df = pd.read_csv('../Data/matches.csv')\n",
    "matches_df = matches_df.drop(matches_df.columns[[0]], axis = 1)"
   ]
  },
  {
   "cell_type": "code",
   "execution_count": 6,
   "metadata": {},
   "outputs": [
    {
     "name": "stdout",
     "output_type": "stream",
     "text": [
      "(\"'S-Hertogenbosch\", 2001)\n"
     ]
    }
   ],
   "source": [
    "for index in tournaments_df.index:\n",
    "    print(index)\n",
    "    break"
   ]
  }
 ],
 "metadata": {
  "kernelspec": {
   "display_name": "Python 3",
   "language": "python",
   "name": "python3"
  },
  "language_info": {
   "codemirror_mode": {
    "name": "ipython",
    "version": 3
   },
   "file_extension": ".py",
   "mimetype": "text/x-python",
   "name": "python",
   "nbconvert_exporter": "python",
   "pygments_lexer": "ipython3",
   "version": "3.11.1"
  },
  "orig_nbformat": 4
 },
 "nbformat": 4,
 "nbformat_minor": 2
}
