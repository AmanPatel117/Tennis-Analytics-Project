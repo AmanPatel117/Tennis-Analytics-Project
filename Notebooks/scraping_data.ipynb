{
 "cells": [
  {
   "cell_type": "code",
   "execution_count": 1,
   "metadata": {},
   "outputs": [],
   "source": [
    "import requests\n",
    "from bs4 import BeautifulSoup\n",
    "import pandas as pd\n",
    "import re\n",
    "import numpy as np\n",
    "from datetime import datetime\n",
    "import random\n",
    "import os\n",
    "import sys\n",
    "# Get the current directory.\n",
    "current_dir = os.getcwd()\n",
    "# Add the `src` folder to the PYTHONPATH.\n",
    "sys.path.append(os.path.join(current_dir, \"../src\"))\n",
    "from scraping_functions import *"
   ]
  },
  {
   "cell_type": "code",
   "execution_count": 2,
   "metadata": {},
   "outputs": [
    {
     "name": "stdout",
     "output_type": "stream",
     "text": [
      "Acapulco\n",
      "Adelaide 1\n",
      "Adelaide 2\n",
      "Antwerp\n",
      "Astana\n",
      "Atlanta\n",
      "Auckland\n",
      "Australian Open\n",
      "Banja Luka\n",
      "Barcelona\n",
      "Basel\n",
      "Bastad\n",
      "Beijing\n",
      "Buenos Aires\n",
      "Chengdu\n",
      "Cincinnati\n",
      "Cordoba\n",
      "Dallas\n",
      "Davis Cup Finals\n",
      "Davis Cup Finals Group Stage\n",
      "Davis Cup Qualifiers\n",
      "Delray Beach\n",
      "Doha\n",
      "Dubai\n",
      "Eastbourne\n",
      "Estoril\n",
      "Geneva\n",
      "Gstaad\n",
      "Halle\n",
      "Hamburg\n",
      "Houston\n",
      "Indian Wells\n",
      "Kitzbuhel\n",
      "Laver Cup\n",
      "London\n",
      "Los Cabos\n",
      "Lyon\n",
      "Madrid\n",
      "Mallorca\n",
      "Marrakech\n",
      "Marseille\n",
      "Metz\n",
      "Miami\n",
      "Monte-Carlo\n",
      "Montpellier\n",
      "Munich\n",
      "Newport\n",
      "Next Gen Atp Finals\n",
      "Nitto Atp Finals\n",
      "Paris\n",
      "Pune\n",
      "Rio De Janeiro\n",
      "Roland Garros\n",
      "Rome\n",
      "Rotterdam\n",
      "Santiago\n",
      "Shanghai\n",
      "'S-Hertogenbosch\n",
      "Stockholm\n",
      "Stuttgart\n",
      "Tel Aviv\n",
      "Tokyo\n",
      "Toronto\n",
      "Umag\n",
      "United Cup\n",
      "Us Open\n",
      "Vienna\n",
      "Washington\n",
      "Wimbledon\n",
      "Winston-Salem\n",
      "Zhuhai\n",
      "Acapulco 807\n",
      "Adelaide 1 2843\n",
      "Adelaide 2 8998\n",
      "Antwerp 7485\n",
      "Astana 9410\n",
      "Atlanta 6116\n",
      "Auckland 301\n",
      "Australian Open 580\n",
      "Banja Luka 2841\n",
      "Barcelona 425\n",
      "Basel 328\n",
      "Bastad 316\n",
      "Beijing 747\n",
      "Buenos Aires 506\n",
      "Chengdu 7581\n",
      "Cincinnati 422\n",
      "Cordoba 9158\n",
      "Dallas 424\n",
      "Davis Cup Finals 8099\n",
      "Davis Cup Finals Group Stage 8097\n",
      "Davis Cup Qualifiers 8096\n",
      "Delray Beach 499\n",
      "Doha 451\n",
      "Dubai 495\n",
      "Eastbourne 741\n",
      "Estoril 7290\n",
      "Geneva 322\n",
      "Gstaad 314\n",
      "Halle 500\n",
      "Hamburg 414\n",
      "Houston 717\n",
      "Indian Wells 404\n",
      "Kitzbuhel 319\n",
      "Laver Cup 9210\n",
      "London 311\n",
      "Los Cabos 7480\n",
      "Lyon 7694\n",
      "Madrid 1536\n",
      "Mallorca 8994\n",
      "Marrakech 360\n",
      "Marseille 496\n",
      "Metz 341\n",
      "Miami 403\n",
      "Monte-Carlo 410\n",
      "Montpellier 375\n",
      "Munich 308\n",
      "Newport 315\n",
      "Next Gen Atp Finals 7696\n",
      "Nitto Atp Finals 605\n",
      "Paris 352\n",
      "Pune 891\n",
      "Rio De Janeiro 6932\n",
      "Roland Garros 520\n",
      "Rome 416\n",
      "Rotterdam 407\n",
      "Santiago 8996\n",
      "Shanghai 5014\n",
      "'S-Hertogenbosch 440\n",
      "Stockholm 429\n",
      "Stuttgart 321\n",
      "Tel Aviv 4138\n",
      "Tokyo 329\n",
      "Toronto 421\n",
      "Umag 439\n",
      "United Cup 9900\n",
      "Us Open 560\n",
      "Vienna 337\n",
      "Washington 418\n",
      "Wimbledon 540\n",
      "Winston-Salem 6242\n",
      "Zhuhai 9164\n"
     ]
    },
    {
     "ename": "ValueError",
     "evalue": "All arrays must be of the same length",
     "output_type": "error",
     "traceback": [
      "\u001b[1;31m---------------------------------------------------------------------------\u001b[0m",
      "\u001b[1;31mValueError\u001b[0m                                Traceback (most recent call last)",
      "Cell \u001b[1;32mIn[2], line 1\u001b[0m\n\u001b[1;32m----> 1\u001b[0m collect_tournaments(\u001b[39m2023\u001b[39;49m)\n",
      "File \u001b[1;32mc:\\Users\\aman0\\OneDrive\\Documents\\Data Science Projects\\Tennis Prediction Project\\Notebooks\\../src\\scraping_functions.py:133\u001b[0m, in \u001b[0;36mcollect_tournaments\u001b[1;34m(year)\u001b[0m\n\u001b[0;32m    131\u001b[0m     start_date\u001b[39m.\u001b[39mappend(datetime\u001b[39m.\u001b[39mstrptime(dates[\u001b[39m0\u001b[39m], \u001b[39m'\u001b[39m\u001b[39m%\u001b[39m\u001b[39mY.\u001b[39m\u001b[39m%\u001b[39m\u001b[39mm.\u001b[39m\u001b[39m%d\u001b[39;00m\u001b[39m'\u001b[39m))\n\u001b[0;32m    132\u001b[0m     end_date\u001b[39m.\u001b[39mappend(datetime\u001b[39m.\u001b[39mstrptime(dates[\u001b[39m1\u001b[39m], \u001b[39m'\u001b[39m\u001b[39m%\u001b[39m\u001b[39mY.\u001b[39m\u001b[39m%\u001b[39m\u001b[39mm.\u001b[39m\u001b[39m%d\u001b[39;00m\u001b[39m'\u001b[39m))\n\u001b[1;32m--> 133\u001b[0m tournaments \u001b[39m=\u001b[39m pd\u001b[39m.\u001b[39;49mDataFrame({\u001b[39m'\u001b[39;49m\u001b[39mName\u001b[39;49m\u001b[39m'\u001b[39;49m : names, \u001b[39m'\u001b[39;49m\u001b[39mId\u001b[39;49m\u001b[39m'\u001b[39;49m : numbers, \u001b[39m'\u001b[39;49m\u001b[39mStart Date\u001b[39;49m\u001b[39m'\u001b[39;49m : start_date, \u001b[39m'\u001b[39;49m\u001b[39mEnd Date\u001b[39;49m\u001b[39m'\u001b[39;49m : end_date, \u001b[39m'\u001b[39;49m\u001b[39mSurface\u001b[39;49m\u001b[39m'\u001b[39;49m : surfaces})\n\u001b[0;32m    134\u001b[0m \u001b[39mreturn\u001b[39;00m tournaments\n",
      "File \u001b[1;32mc:\\Users\\aman0\\AppData\\Local\\Programs\\Python\\Python311\\Lib\\site-packages\\pandas\\core\\frame.py:663\u001b[0m, in \u001b[0;36mDataFrame.__init__\u001b[1;34m(self, data, index, columns, dtype, copy)\u001b[0m\n\u001b[0;32m    657\u001b[0m     mgr \u001b[39m=\u001b[39m \u001b[39mself\u001b[39m\u001b[39m.\u001b[39m_init_mgr(\n\u001b[0;32m    658\u001b[0m         data, axes\u001b[39m=\u001b[39m{\u001b[39m\"\u001b[39m\u001b[39mindex\u001b[39m\u001b[39m\"\u001b[39m: index, \u001b[39m\"\u001b[39m\u001b[39mcolumns\u001b[39m\u001b[39m\"\u001b[39m: columns}, dtype\u001b[39m=\u001b[39mdtype, copy\u001b[39m=\u001b[39mcopy\n\u001b[0;32m    659\u001b[0m     )\n\u001b[0;32m    661\u001b[0m \u001b[39melif\u001b[39;00m \u001b[39misinstance\u001b[39m(data, \u001b[39mdict\u001b[39m):\n\u001b[0;32m    662\u001b[0m     \u001b[39m# GH#38939 de facto copy defaults to False only in non-dict cases\u001b[39;00m\n\u001b[1;32m--> 663\u001b[0m     mgr \u001b[39m=\u001b[39m dict_to_mgr(data, index, columns, dtype\u001b[39m=\u001b[39;49mdtype, copy\u001b[39m=\u001b[39;49mcopy, typ\u001b[39m=\u001b[39;49mmanager)\n\u001b[0;32m    664\u001b[0m \u001b[39melif\u001b[39;00m \u001b[39misinstance\u001b[39m(data, ma\u001b[39m.\u001b[39mMaskedArray):\n\u001b[0;32m    665\u001b[0m     \u001b[39mimport\u001b[39;00m \u001b[39mnumpy\u001b[39;00m\u001b[39m.\u001b[39;00m\u001b[39mma\u001b[39;00m\u001b[39m.\u001b[39;00m\u001b[39mmrecords\u001b[39;00m \u001b[39mas\u001b[39;00m \u001b[39mmrecords\u001b[39;00m\n",
      "File \u001b[1;32mc:\\Users\\aman0\\AppData\\Local\\Programs\\Python\\Python311\\Lib\\site-packages\\pandas\\core\\internals\\construction.py:493\u001b[0m, in \u001b[0;36mdict_to_mgr\u001b[1;34m(data, index, columns, dtype, typ, copy)\u001b[0m\n\u001b[0;32m    489\u001b[0m     \u001b[39melse\u001b[39;00m:\n\u001b[0;32m    490\u001b[0m         \u001b[39m# dtype check to exclude e.g. range objects, scalars\u001b[39;00m\n\u001b[0;32m    491\u001b[0m         arrays \u001b[39m=\u001b[39m [x\u001b[39m.\u001b[39mcopy() \u001b[39mif\u001b[39;00m \u001b[39mhasattr\u001b[39m(x, \u001b[39m\"\u001b[39m\u001b[39mdtype\u001b[39m\u001b[39m\"\u001b[39m) \u001b[39melse\u001b[39;00m x \u001b[39mfor\u001b[39;00m x \u001b[39min\u001b[39;00m arrays]\n\u001b[1;32m--> 493\u001b[0m \u001b[39mreturn\u001b[39;00m arrays_to_mgr(arrays, columns, index, dtype\u001b[39m=\u001b[39;49mdtype, typ\u001b[39m=\u001b[39;49mtyp, consolidate\u001b[39m=\u001b[39;49mcopy)\n",
      "File \u001b[1;32mc:\\Users\\aman0\\AppData\\Local\\Programs\\Python\\Python311\\Lib\\site-packages\\pandas\\core\\internals\\construction.py:118\u001b[0m, in \u001b[0;36marrays_to_mgr\u001b[1;34m(arrays, columns, index, dtype, verify_integrity, typ, consolidate)\u001b[0m\n\u001b[0;32m    115\u001b[0m \u001b[39mif\u001b[39;00m verify_integrity:\n\u001b[0;32m    116\u001b[0m     \u001b[39m# figure out the index, if necessary\u001b[39;00m\n\u001b[0;32m    117\u001b[0m     \u001b[39mif\u001b[39;00m index \u001b[39mis\u001b[39;00m \u001b[39mNone\u001b[39;00m:\n\u001b[1;32m--> 118\u001b[0m         index \u001b[39m=\u001b[39m _extract_index(arrays)\n\u001b[0;32m    119\u001b[0m     \u001b[39melse\u001b[39;00m:\n\u001b[0;32m    120\u001b[0m         index \u001b[39m=\u001b[39m ensure_index(index)\n",
      "File \u001b[1;32mc:\\Users\\aman0\\AppData\\Local\\Programs\\Python\\Python311\\Lib\\site-packages\\pandas\\core\\internals\\construction.py:666\u001b[0m, in \u001b[0;36m_extract_index\u001b[1;34m(data)\u001b[0m\n\u001b[0;32m    664\u001b[0m lengths \u001b[39m=\u001b[39m \u001b[39mlist\u001b[39m(\u001b[39mset\u001b[39m(raw_lengths))\n\u001b[0;32m    665\u001b[0m \u001b[39mif\u001b[39;00m \u001b[39mlen\u001b[39m(lengths) \u001b[39m>\u001b[39m \u001b[39m1\u001b[39m:\n\u001b[1;32m--> 666\u001b[0m     \u001b[39mraise\u001b[39;00m \u001b[39mValueError\u001b[39;00m(\u001b[39m\"\u001b[39m\u001b[39mAll arrays must be of the same length\u001b[39m\u001b[39m\"\u001b[39m)\n\u001b[0;32m    668\u001b[0m \u001b[39mif\u001b[39;00m have_dicts:\n\u001b[0;32m    669\u001b[0m     \u001b[39mraise\u001b[39;00m \u001b[39mValueError\u001b[39;00m(\n\u001b[0;32m    670\u001b[0m         \u001b[39m\"\u001b[39m\u001b[39mMixing dicts with non-Series may lead to ambiguous ordering.\u001b[39m\u001b[39m\"\u001b[39m\n\u001b[0;32m    671\u001b[0m     )\n",
      "\u001b[1;31mValueError\u001b[0m: All arrays must be of the same length"
     ]
    }
   ],
   "source": [
    "collect_tournaments(2023)"
   ]
  },
  {
   "cell_type": "code",
   "execution_count": null,
   "metadata": {},
   "outputs": [],
   "source": [
    "tournaments = pd.DataFrame({'Name' : [], 'Id' : [], 'Start Date' : [], 'End Date' : []})\n",
    "for year in range(2023, 2000, -1):\n",
    "    addition = collect_tournaments(year)\n",
    "    tournaments = pd.concat([tournaments, addition], axis = 0)\n",
    "    break"
   ]
  },
  {
   "cell_type": "code",
   "execution_count": null,
   "metadata": {},
   "outputs": [],
   "source": [
    "tournaments['Id']=tournaments['Id'].astype('int64')\n",
    "tournaments['Year'] = tournaments['Start Date'].dt.year\n",
    "tournaments_df = tournaments.set_index(['Name', 'Year'])\n",
    "tournaments_df = tournaments_df.sort_index()\n",
    "tournaments_df.to_csv('tournaments')"
   ]
  },
  {
   "cell_type": "code",
   "execution_count": null,
   "metadata": {},
   "outputs": [],
   "source": [
    "players_df = pd.DataFrame({'Name' : [], 'Id' : []})\n",
    "i=0\n",
    "for index in tournaments_df.index:\n",
    "    addition = add_players(index)\n",
    "    players_df = pd.concat([players_df, addition], axis = 0)\n",
    "    print(i)\n",
    "    i += 1\n",
    "players_df = players_df.drop_duplicates().reset_index().drop('index', axis = 1).set_index('Name')\n",
    "players_df"
   ]
  },
  {
   "cell_type": "code",
   "execution_count": null,
   "metadata": {},
   "outputs": [],
   "source": [
    "matches_df = pd.DataFrame({'Player 1' : [], 'Player 2' : [], 'Winner' : [], 'Score' : [], 'Tournament Name' : []})\n",
    "matches_df['Score'] = matches_df['Score'].astype('float64')\n",
    "tournaments_df = pd.read_csv('../Data/tournaments.csv').set_index(['Name', 'Year'])\n",
    "i=0\n",
    "for index in tournaments_df.index:\n",
    "    addition = collect_tourney_data(index, tournaments_df)\n",
    "    matches_df = pd.concat([matches_df,addition], axis = 0)\n",
    "    print(i)\n",
    "    i+=1\n",
    "matches_df = matches_df.reset_index().drop('index', axis = 1)\n",
    "matches_df['Year'] = matches_df['Year'].astype('int64')"
   ]
  },
  {
   "cell_type": "code",
   "execution_count": null,
   "metadata": {},
   "outputs": [],
   "source": [
    "new_matches = pd.read_csv('../Data/old_matches.csv').drop('Unnamed: 0', axis = 1)\n",
    "new_matches"
   ]
  },
  {
   "cell_type": "code",
   "execution_count": null,
   "metadata": {},
   "outputs": [],
   "source": [
    "matches_df['Score']=matches_df['Score'].astype('object')\n",
    "matches_df\n"
   ]
  },
  {
   "cell_type": "code",
   "execution_count": null,
   "metadata": {},
   "outputs": [],
   "source": [
    "player1, player2, winner, r1, r2= list(new_matches['Player 1']), list(new_matches['Player 2']), list(new_matches['Winner']), list(new_matches['Player 1 Ranking']), list(new_matches['Player 2 Ranking'])\n",
    "for i in range(len(player1)):\n",
    "    if player1[i] != winner[i]:\n",
    "        print('switch')\n",
    "        temp = player1[i]\n",
    "        player1[i] = player2[i]\n",
    "        player2[i] = temp\n",
    "\n",
    "        temp1 = r1[i]\n",
    "        r1[i] = r2[i]\n",
    "        r2[i] = temp1\n",
    "        \n",
    "new_matches['Player 1'], new_matches['Player 2'], new_matches['Player 1 Ranking'], new_matches['Player 2 Ranking']= player1, player2,r1, r2"
   ]
  },
  {
   "cell_type": "code",
   "execution_count": null,
   "metadata": {},
   "outputs": [],
   "source": [
    "new_matches"
   ]
  },
  {
   "cell_type": "code",
   "execution_count": null,
   "metadata": {},
   "outputs": [],
   "source": [
    "matches_df"
   ]
  },
  {
   "cell_type": "code",
   "execution_count": null,
   "metadata": {},
   "outputs": [],
   "source": [
    "final_df = matches_df.merge(new_matches, how = 'left', on = ['Player 1', 'Player 2', 'Winner', 'Tournament Name', 'Year'])\n",
    "final_df = final_df.drop('Score_y', axis = 1).rename({'Score_x' : 'Score'}, axis = 1)"
   ]
  },
  {
   "cell_type": "code",
   "execution_count": null,
   "metadata": {},
   "outputs": [],
   "source": [
    "final_df.head(10)"
   ]
  },
  {
   "cell_type": "code",
   "execution_count": null,
   "metadata": {},
   "outputs": [],
   "source": [
    "final_df.to_csv('matches.csv')"
   ]
  }
 ],
 "metadata": {
  "kernelspec": {
   "display_name": "Python 3",
   "language": "python",
   "name": "python3"
  },
  "language_info": {
   "codemirror_mode": {
    "name": "ipython",
    "version": 3
   },
   "file_extension": ".py",
   "mimetype": "text/x-python",
   "name": "python",
   "nbconvert_exporter": "python",
   "pygments_lexer": "ipython3",
   "version": "3.11.1"
  },
  "orig_nbformat": 4
 },
 "nbformat": 4,
 "nbformat_minor": 2
}
