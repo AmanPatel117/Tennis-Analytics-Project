{
 "cells": [
  {
   "cell_type": "code",
   "execution_count": null,
   "metadata": {},
   "outputs": [],
   "source": [
    "import requests\n",
    "from bs4 import BeautifulSoup\n",
    "import pandas as pd\n",
    "import re\n",
    "import numpy as np\n",
    "from datetime import datetime\n",
    "import random"
   ]
  },
  {
   "cell_type": "code",
   "execution_count": null,
   "metadata": {},
   "outputs": [],
   "source": [
    "tournaments_df = pd.read_csv('tournaments.csv').set_index(['Name', 'Year'])\n",
    "players_df = pd.read_csv('players.csv').set_index('Name')\n",
    "\n",
    "matches_df = pd.read_csv('matches.csv')\n",
    "matches_df = matches_df.drop(matches_df.columns[[0]], axis = 1)"
   ]
  },
  {
   "cell_type": "code",
   "execution_count": null,
   "metadata": {},
   "outputs": [],
   "source": [
    "def find_ranking(row, player1 = True):\n",
    "    name = row['Player 1'] if player1 else row['Player 2']\n",
    "    tournament, year = row['Tournament Name'], row['Year']\n",
    "    tournament_id = tournaments_df.loc[(tournament, year), 'Id'][0]\n",
    "    try:\n",
    "        url = 'https://www.atptour.com/en/scores/archive/%s/%d/%d/results' % (tournament.lower(), tournament_id, year)\n",
    "        page = requests.get(url).text\n",
    "    except Exception as e:\n",
    "        return -1\n",
    "    soup = BeautifulSoup(page)\n",
    "\n",
    "    start_date = tournaments_df.loc[(tournament, year), 'Start Date'][0]\n",
    "    try:\n",
    "        name, player_id = name.lower().replace(\" \", '-'), players_df.loc[name, 'Id']\n",
    "    except Exception as e:\n",
    "        print(e)\n",
    "        return None\n",
    "    ranking_page = 'https://www.atptour.com/en/players/%s/%s/rankings-history' % (name, player_id)\n",
    "    historical_ranking = requests.get(ranking_page).text\n",
    "    soup1 = BeautifulSoup(historical_ranking)\n",
    "\n",
    "    dates, contents, format = [], [], '%Y.%m.%d'\n",
    "    date_to_ranking = {}\n",
    "    for tag in soup1.find_all('td'):\n",
    "        tag = str(tag)[4:]\n",
    "        content = tag[:tag.find('<')].strip()\n",
    "        contents.append(content)\n",
    "    for index, content in enumerate(contents):\n",
    "        try:\n",
    "            date = datetime.strptime(content, format)\n",
    "            dates.append(date)\n",
    "            ranking = int(contents[index + 1])\n",
    "            date_to_ranking[content] = ranking\n",
    "        except:\n",
    "            continue\n",
    "\n",
    "    ranking_date = -1\n",
    "    start_date = datetime.strptime(start_date, '%Y-%m-%d')\n",
    "    for index, date in enumerate(dates):\n",
    "        if date <= start_date:\n",
    "            ranking_date = date\n",
    "            break\n",
    "    try:\n",
    "        ranking = date_to_ranking[datetime.strftime(ranking_date, format)]\n",
    "    except:\n",
    "        return -1\n",
    "    return ranking"
   ]
  },
  {
   "cell_type": "code",
   "execution_count": null,
   "metadata": {},
   "outputs": [],
   "source": [
    "starting_point = 0\n",
    "for index, row in matches_df.iterrows():\n",
    "    if index < starting_point:\n",
    "        continue\n",
    "    if (row['Player 1 Ranking'] == -1) | (row['Player 2 Ranking'] == -1):\n",
    "        matches_df.at[index, 'Player 1 Ranking'] = find_ranking(row, player1 = True)\n",
    "        matches_df.at[index, 'Player 2 Ranking'] = find_ranking(row, player1 = False)\n",
    "        if (index % 50 == 0):\n",
    "            print('saved')\n",
    "            matches_df.to_csv('matches.csv')\n",
    "    print(index)"
   ]
  },
  {
   "cell_type": "code",
   "execution_count": null,
   "metadata": {},
   "outputs": [],
   "source": [
    "pass2 = matches_df[(matches_df['Player 1 Ranking'] == -1) | (matches_df['Player 2 Ranking'] == -1)].reset_index().drop('index', axis = 1)\n",
    "pass2"
   ]
  },
  {
   "cell_type": "code",
   "execution_count": null,
   "metadata": {},
   "outputs": [],
   "source": [
    "for index, row in pass2.iterrows():\n",
    "    if (row['Player 1 Ranking'] == -1):\n",
    "        pass2.at[index, 'Player 1 Ranking'] = find_ranking(row, player1 = True)\n",
    "    if (row['Player 2 Ranking'] == -1):\n",
    "        pass2.at[index, 'Player 2 Ranking'] = find_ranking(row, player1 = False)\n",
    "    print(index)"
   ]
  },
  {
   "cell_type": "code",
   "execution_count": null,
   "metadata": {},
   "outputs": [],
   "source": [
    "pass2"
   ]
  }
 ],
 "metadata": {
  "kernelspec": {
   "display_name": "Python 3",
   "language": "python",
   "name": "python3"
  },
  "language_info": {
   "codemirror_mode": {
    "name": "ipython",
    "version": 3
   },
   "file_extension": ".py",
   "mimetype": "text/x-python",
   "name": "python",
   "nbconvert_exporter": "python",
   "pygments_lexer": "ipython3",
   "version": "3.11.1"
  },
  "orig_nbformat": 4
 },
 "nbformat": 4,
 "nbformat_minor": 2
}
